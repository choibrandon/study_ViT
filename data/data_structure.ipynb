{
 "cells": [
  {
   "cell_type": "markdown",
   "metadata": {},
   "source": [
    "CIFAR10에 대한 설명"
   ]
  },
  {
   "cell_type": "markdown",
   "metadata": {},
   "source": [
    "CIFAR-10은 이미지 분류(classification) 작업에서 널리 사용되는 벤치마크 데이터셋입니다.\n",
    "10개의 서로 다른 클래스에 속하는 6만 장의 작은 크기 이미지를 포함합니다"
   ]
  },
  {
   "cell_type": "markdown",
   "metadata": {},
   "source": [
    "학습 데이터: 5만장, 테스트 데이터: 1만장\n",
    "이미지 형식:\n",
    "   크기: 32 X 32 \n",
    "   채널: 3\n",
    "   각 픽셀 값은 0~255 범위를 갖는다. \n",
    "\n",
    "클래스(10개)\n",
    "비행기, 자동차, 새, 고양이 ... 등 10개의 클래스로 구성되어있다.\n",
    "\n",
    "폴더 구조는 datasets 폴더를 보셈"
   ]
  },
  {
   "cell_type": "markdown",
   "metadata": {},
   "source": [
    "1) batches.meta\n",
    "   label_names 클래스 이름이 들어있음\n",
    "\n",
    "2) data_batch_1~data_batch_5\n",
    "   학습 데이터가 5개의 배치로 나뉘어 저장. \n",
    "   1만개의 이미지 데이터 포함, 각 파일은 python의 pickle 형식으로 저장, 이미지 데이터와 라벨 포함\n",
    "\n",
    "3) test_batch\n",
    "   테스트 데이터, 1만개의 이미지 및 라벨 포함\n",
    "\n",
    "데이터는 1차원 배열로 저장: 32×32×3=3072.\n",
    "배열은 [R1, R2, ..., R1024, G1, G2, ..., G1024, B1, B2, ..., B1024] 형태로 저장.\n",
    "라벨은 정수 값으로 저장\n"
   ]
  },
  {
   "cell_type": "code",
   "execution_count": 1,
   "metadata": {},
   "outputs": [
    {
     "name": "stdout",
     "output_type": "stream",
     "text": [
      "Images shape: (10000, 32, 32, 3), Labels shape: (10000,)\n"
     ]
    }
   ],
   "source": [
    "#한번 예시를 보시죠.\n",
    "import pickle\n",
    "import numpy as np\n",
    "\n",
    "def load_cifar10_batch(file):\n",
    "    with open(file,'rb') as f:\n",
    "        data_dict = pickle.load(f, encoding='bytes')\n",
    "        images = data_dict[b'data']\n",
    "        labels = np.array(data_dict[b'labels'])\n",
    "\n",
    "        images = images.reshape(-1, 3, 32, 32).transpose(0,2,3,1)\n",
    "    return images, labels\n",
    "\n",
    "images, labels = load_cifar10_batch('./datasets/cifar-10-batches-py/data_batch_1')\n",
    "print(f\"Images shape: {images.shape}, Labels shape: {labels.shape}\")"
   ]
  },
  {
   "cell_type": "code",
   "execution_count": 5,
   "metadata": {},
   "outputs": [
    {
     "data": {
      "image/png": "[encoded data removed]",
      "text/plain": [
       "<Figure size 640x480 with 1 Axes>"
      ]
     },
     "metadata": {},
     "output_type": "display_data"
    }
   ],
   "source": [
    "import matplotlib.pyplot as plt\n",
    "\n",
    "#단일 이미지 확인\n",
    "index = 1 # 보고 싶은 이미지의 인덱스\n",
    "image = images[index]\n",
    "label = labels[index]\n",
    "\n",
    "label_names = ['airplane', 'automobile', 'bird', 'cat', 'deer', \n",
    "               'dog', 'frog', 'horse', 'ship', 'truck']\n",
    "class_name = label_names[label]\n",
    "\n",
    "plt.imshow(image)\n",
    "plt.title(f\"Class: {class_name} ({label})\")\n",
    "plt.axis('off')\n",
    "plt.show()"
   ]
  },
  {
   "cell_type": "code",
   "execution_count": null,
   "metadata": {},
   "outputs": [],
   "source": []
  }
 ],
 "metadata": {
  "kernelspec": {
   "display_name": "mae",
   "language": "python",
   "name": "python3"
  },
  "language_info": {
   "codemirror_mode": {
    "name": "ipython",
    "version": 3
   },
   "file_extension": ".py",
   "mimetype": "text/x-python",
   "name": "python",
   "nbconvert_exporter": "python",
   "pygments_lexer": "ipython3",
   "version": "3.8.20"
  }
 },
 "nbformat": 4,
 "nbformat_minor": 2
}
